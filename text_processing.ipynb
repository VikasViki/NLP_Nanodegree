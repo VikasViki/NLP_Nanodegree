{
 "cells": [
  {
   "cell_type": "markdown",
   "metadata": {},
   "source": [
    "# Text Processing\n",
    "\n",
    "## Capturing Text Data\n",
    "\n",
    "### Plain Text"
   ]
  },
  {
   "cell_type": "code",
   "execution_count": 2,
   "metadata": {},
   "outputs": [
    {
     "name": "stdout",
     "output_type": "stream",
     "text": [
      "Hieroglyphic writing dates from c. 3000 BC, and is composed of hundreds of symbols. A hieroglyph can represent a word, a sound, or a silent determinative; and the same symbol can serve different purposes in different contexts. Hieroglyphs were a formal script, used on stone monuments and in tombs, that could be as detailed as individual works of art.\n",
      "\n"
     ]
    }
   ],
   "source": [
    "import os\n",
    "\n",
    "# Read in a plain text file\n",
    "with open(os.path.join(\"data\", \"hieroglyph.txt\"), \"r\") as f:\n",
    "    text = f.read()\n",
    "    print(text)"
   ]
  },
  {
   "cell_type": "markdown",
   "metadata": {},
   "source": [
    "### Tabular Data"
   ]
  },
  {
   "cell_type": "code",
   "execution_count": 3,
   "metadata": {
    "scrolled": true
   },
   "outputs": [
    {
     "data": {
      "text/html": [
       "<div>\n",
       "<style scoped>\n",
       "    .dataframe tbody tr th:only-of-type {\n",
       "        vertical-align: middle;\n",
       "    }\n",
       "\n",
       "    .dataframe tbody tr th {\n",
       "        vertical-align: top;\n",
       "    }\n",
       "\n",
       "    .dataframe thead th {\n",
       "        text-align: right;\n",
       "    }\n",
       "</style>\n",
       "<table border=\"1\" class=\"dataframe\">\n",
       "  <thead>\n",
       "    <tr style=\"text-align: right;\">\n",
       "      <th></th>\n",
       "      <th>publisher</th>\n",
       "      <th>title</th>\n",
       "    </tr>\n",
       "  </thead>\n",
       "  <tbody>\n",
       "    <tr>\n",
       "      <th>0</th>\n",
       "      <td>Livemint</td>\n",
       "      <td>fed's charles plosser sees high bar for change...</td>\n",
       "    </tr>\n",
       "    <tr>\n",
       "      <th>1</th>\n",
       "      <td>IFA Magazine</td>\n",
       "      <td>us open: stocks fall after fed official hints ...</td>\n",
       "    </tr>\n",
       "    <tr>\n",
       "      <th>2</th>\n",
       "      <td>IFA Magazine</td>\n",
       "      <td>fed risks falling 'behind the curve', charles ...</td>\n",
       "    </tr>\n",
       "    <tr>\n",
       "      <th>3</th>\n",
       "      <td>Moneynews</td>\n",
       "      <td>fed's plosser: nasty weather has curbed job gr...</td>\n",
       "    </tr>\n",
       "    <tr>\n",
       "      <th>4</th>\n",
       "      <td>NASDAQ</td>\n",
       "      <td>plosser: fed may have to accelerate tapering pace</td>\n",
       "    </tr>\n",
       "  </tbody>\n",
       "</table>\n",
       "</div>"
      ],
      "text/plain": [
       "      publisher                                              title\n",
       "0      Livemint  fed's charles plosser sees high bar for change...\n",
       "1  IFA Magazine  us open: stocks fall after fed official hints ...\n",
       "2  IFA Magazine  fed risks falling 'behind the curve', charles ...\n",
       "3     Moneynews  fed's plosser: nasty weather has curbed job gr...\n",
       "4        NASDAQ  plosser: fed may have to accelerate tapering pace"
      ]
     },
     "execution_count": 3,
     "metadata": {},
     "output_type": "execute_result"
    }
   ],
   "source": [
    "import pandas as pd\n",
    "\n",
    "# Extract text column from a dataframe\n",
    "df = pd.read_csv(os.path.join(\"data\", \"news.csv\"))\n",
    "df.head()[['publisher', 'title']]\n",
    "\n",
    "# Convert text column to lowercase\n",
    "df['title'] = df['title'].str.lower()\n",
    "df.head()[['publisher', 'title']]"
   ]
  },
  {
   "cell_type": "markdown",
   "metadata": {},
   "source": [
    "### Online Resource"
   ]
  },
  {
   "cell_type": "code",
   "execution_count": 4,
   "metadata": {
    "scrolled": true
   },
   "outputs": [
    {
     "name": "stdout",
     "output_type": "stream",
     "text": [
      "{\n",
      "    \"success\": {\n",
      "        \"total\": 1\n",
      "    },\n",
      "    \"contents\": {\n",
      "        \"quotes\": [\n",
      "            {\n",
      "                \"quote\": \"A loser doesn't know what he'll do if he loses, but talks about what he'll do if he wins, and a winner doesn't talk about what he'll do if he wins, but knows what he'll do if he loses.\",\n",
      "                \"length\": \"184\",\n",
      "                \"author\": null,\n",
      "                \"tags\": {\n",
      "                    \"0\": \"failure\",\n",
      "                    \"1\": \"inspire\",\n",
      "                    \"2\": \"knowledge\",\n",
      "                    \"4\": \"winning\"\n",
      "                },\n",
      "                \"category\": \"inspire\",\n",
      "                \"language\": \"en\",\n",
      "                \"date\": \"2020-05-06\",\n",
      "                \"permalink\": \"https://theysaidso.com/quote/a-loser-doesnt-know-what-hell-do-if-he-loses-but-talks-about-what-hell-do-if-he\",\n",
      "                \"id\": \"KhjRMynny89MKxcGkEKF_QeF\",\n",
      "                \"background\": \"https://theysaidso.com/img/qod/qod-inspire.jpg\",\n",
      "                \"title\": \"Inspiring Quote of the day\"\n",
      "            }\n",
      "        ]\n",
      "    },\n",
      "    \"baseurl\": \"https://theysaidso.com\",\n",
      "    \"copyright\": {\n",
      "        \"year\": 2022,\n",
      "        \"url\": \"https://theysaidso.com\"\n",
      "    }\n",
      "}\n",
      "A loser doesn't know what he'll do if he loses, but talks about what he'll do if he wins, and a winner doesn't talk about what he'll do if he wins, but knows what he'll do if he loses. \n",
      "-- None\n"
     ]
    }
   ],
   "source": [
    "import requests\n",
    "import json\n",
    "\n",
    "# Fetch data from a REST API\n",
    "r = requests.get(\n",
    "    \"https://quotes.rest/qod.json\")\n",
    "res = r.json()\n",
    "print(json.dumps(res, indent=4))\n",
    "\n",
    "# Extract relevant object and field\n",
    "q = res[\"contents\"][\"quotes\"][0]\n",
    "print(q[\"quote\"], \"\\n--\", q[\"author\"])"
   ]
  },
  {
   "cell_type": "markdown",
   "metadata": {},
   "source": [
    "## Cleaning"
   ]
  },
  {
   "cell_type": "code",
   "execution_count": 5,
   "metadata": {
    "scrolled": true
   },
   "outputs": [
    {
     "name": "stdout",
     "output_type": "stream",
     "text": [
      "<html lang=\"en\" op=\"news\"><head><meta name=\"referrer\" content=\"origin\"><meta name=\"viewport\" content=\"width=device-width, initial-scale=1.0\"><link rel=\"stylesheet\" type=\"text/css\" href=\"news.css?MQDqhc17nNh85YVtzQo0\">\n",
      "        <link rel=\"shortcut icon\" href=\"favicon.ico\">\n",
      "          <link rel=\"alternate\" type=\"application/rss+xml\" title=\"RSS\" href=\"rss\">\n",
      "        <title>Hacker News</title></head><body><center><table id=\"hnmain\" border=\"0\" cellpadding=\"0\" cellspacing=\"0\" width=\"85%\" bgcolor=\"#f6f6ef\">\n",
      "        <tr><td bgcolor=\"#ff6600\"><table border=\"0\" cellpadding=\"0\" cellspacing=\"0\" width=\"100%\" style=\"padding:2px\"><tr><td style=\"width:18px;padding-right:4px\"><a href=\"https://news.ycombinator.com\"><img src=\"y18.gif\" width=\"18\" height=\"18\" style=\"border:1px white solid;\"></a></td>\n",
      "                  <td style=\"line-height:12pt; height:10px;\"><span class=\"pagetop\"><b class=\"hnname\"><a href=\"news\">Hacker News</a></b>\n",
      "              <a href=\"newest\">new</a> | <a href=\"front\">past</a> | <a href=\"newcomments\">comments</a> | <a href=\"ask\">ask</a> | <a href=\"show\">show</a> | <a href=\"jobs\">jobs</a> | <a href=\"submit\">submit</a>            </span></td><td style=\"text-align:right;padding-right:4px;\"><span class=\"pagetop\">\n",
      "                              <a href=\"login?goto=news\">login</a>\n",
      "                          </span></td>\n",
      "              </tr></table></td></tr>\n",
      "<tr id=\"pagespace\" title=\"\" style=\"height:10px\"></tr><tr><td><table border=\"0\" cellpadding=\"0\" cellspacing=\"0\" class=\"itemlist\">\n",
      "              <tr class='athing' id='23092904'>\n",
      "      <td align=\"right\" valign=\"top\" class=\"title\"><span class=\"rank\">1.</span></td>      <td valign=\"top\" class=\"votelinks\"><center><a id='up_23092904' href='vote?id=23092904&amp;how=up&amp;goto=news'><div class='votearrow' title='upvote'></div></a></center></td><td class=\"title\"><a href=\"https://github.com/features/codespaces\" class=\"storylink\">GitHub Codespaces</a><span class=\"sitebit comhead\"> (<a href=\"from?site=github.com\"><span class=\"sitestr\">github.com</span></a>)</span></td></tr><tr><td colspan=\"2\"></td><td class=\"subtext\">\n",
      "        <span class=\"score\" id=\"score_23092904\">794 points</span> by <a href=\"user?id=CraftThatBlock\" class=\"hnuser\">CraftThatBlock</a> <span class=\"age\"><a href=\"item?id=23092904\">3 hours ago</a></span> <span id=\"unv_23092904\"></span> | <a href=\"hide?id=23092904&amp;goto=news\">hide</a> | <a href=\"item?id=23092904\">272&nbsp;comments</a>              </td></tr>\n",
      "      <tr class=\"spacer\" style=\"height:5px\"></tr>\n",
      "                <tr class='athing' id='23090393'>\n",
      "      <td align=\"right\" valign=\"top\" class=\"title\"><span class=\"rank\">2.</span></td>      <td valign=\"top\" class=\"votelinks\"><center><a id='up_23090393' href='vote?id=23090393&amp;how=up&amp;goto=news'><div class='votearrow' title='upvote'></div></a></center></td><td class=\"title\"><a href=\"https://techcrunch.com/2020/05/06/no-cookie-consent-walls-and-no-scrolling-isnt-consent-says-eu-data-protection-body/\" class=\"storylink\">No cookie consent walls, scrolling isn’t consent, says EU data protection body</a><span class=\"sitebit comhead\"> (<a href=\"from?site=techcrunch.com\"><span class=\"sitestr\">techcrunch.com</span></a>)</span></td></tr><tr><td colspan=\"2\"></td><td class=\"subtext\">\n",
      "        <span class=\"score\" id=\"score_23090393\">703 points</span> by <a href=\"user?id=sohkamyung\" class=\"hnuser\">sohkamyung</a> <span class=\"age\"><a href=\"item?id=23090393\">6 hours ago</a></span> <span id=\"unv_23090393\"></span> | <a href=\"hide?id=23090393&amp;goto=news\">hide</a> | <a href=\"item?id=23090393\">660&nbsp;comments</a>              </td></tr>\n",
      "      <tr class=\"spacer\" style=\"height:5px\"></tr>\n",
      "                <tr class='athing' id='23094317'>\n",
      "      <td align=\"right\" valign=\"top\" class=\"title\"><span class=\"rank\">3.</span></td>      <td valign=\"top\" class=\"votelinks\"><center><a id='up_23094317' href='vote?id=23094317&amp;how=up&amp;goto=news'><div class='votearrow' title='upvote'></div></a></center></td><td class=\"title\"><a href=\"https://www.statnews.com/2020/05/06/researchers-show-herpes-link-to-alzheimers/\" class=\"storylink\">Using human brain tissue in lab, researchers show herpes link to Alzheimer’s</a><span class=\"sitebit comhead\"> (<a href=\"from?site=statnews.com\"><span class=\"sitestr\">statnews.com</span></a>)</span></td></tr><tr><td colspan=\"2\"></td><td class=\"subtext\">\n",
      "        <span class=\"score\" id=\"score_23094317\">64 points</span> by <a href=\"user?id=vo2maxer\" class=\"hnuser\">vo2maxer</a> <span class=\"age\"><a href=\"item?id=23094317\">1 hour ago</a></span> <span id=\"unv_23094317\"></span> | <a href=\"hide?id=23094317&amp;goto=news\">hide</a> | <a href=\"item?id=23094317\">21&nbsp;comments</a>              </td></tr>\n",
      "      <tr class=\"spacer\" style=\"height:5px\"></tr>\n",
      "                <tr class='athing' id='23092630'>\n",
      "      <td align=\"right\" valign=\"top\" class=\"title\"><span class=\"rank\">4.</span></td>      <td valign=\"top\" class=\"votelinks\"><center><a id='up_23092630' href='vote?id=23092630&amp;how=up&amp;goto=news'><div class='votearrow' title='upvote'></div></a></center></td><td class=\"title\"><a href=\"https://www.bbc.co.uk/news/entertainment-arts-52564281\" class=\"storylink\">Florian Schneider has died</a><span class=\"sitebit comhead\"> (<a href=\"from?site=bbc.co.uk\"><span class=\"sitestr\">bbc.co.uk</span></a>)</span></td></tr><tr><td colspan=\"2\"></td><td class=\"subtext\">\n",
      "        <span class=\"score\" id=\"score_23092630\">178 points</span> by <a href=\"user?id=arethuza\" class=\"hnuser\">arethuza</a> <span class=\"age\"><a href=\"item?id=23092630\">3 hours ago</a></span> <span id=\"unv_23092630\"></span> | <a href=\"hide?id=23092630&amp;goto=news\">hide</a> | <a href=\"item?id=23092630\">30&nbsp;comments</a>              </td></tr>\n",
      "      <tr class=\"spacer\" style=\"height:5px\"></tr>\n",
      "                <tr class='athing' id='23093091'>\n",
      "      <td align=\"right\" valign=\"top\" class=\"title\"><span class=\"rank\">5.</span></td>      <td valign=\"top\" class=\"votelinks\"><center><a id='up_23093091' href='vote?id=23093091&amp;how=up&amp;goto=news'><div class='votearrow' title='upvote'></div></a></center></td><td class=\"title\"><a href=\"https://github.com/features/security/advanced-security/signup\" class=\"storylink\">GitHub Codescanning</a><span class=\"sitebit comhead\"> (<a href=\"from?site=github.com\"><span class=\"sitestr\">github.com</span></a>)</span></td></tr><tr><td colspan=\"2\"></td><td class=\"subtext\">\n",
      "        <span class=\"score\" id=\"score_23093091\">181 points</span> by <a href=\"user?id=jedisct1\" class=\"hnuser\">jedisct1</a> <span class=\"age\"><a href=\"item?id=23093091\">3 hours ago</a></span> <span id=\"unv_23093091\"></span> | <a href=\"hide?id=23093091&amp;goto=news\">hide</a> | <a href=\"item?id=23093091\">39&nbsp;comments</a>              </td></tr>\n",
      "      <tr class=\"spacer\" style=\"height:5px\"></tr>\n",
      "                <tr class='athing' id='23093815'>\n",
      "      <td align=\"right\" valign=\"top\" class=\"title\"><span class=\"rank\">6.</span></td>      <td valign=\"top\" class=\"votelinks\"><center><a id='up_23093815' href='vote?id=23093815&amp;how=up&amp;goto=news'><div class='votearrow' title='upvote'></div></a></center></td><td class=\"title\"><a href=\"https://github.com/aftertheflood/sparks\" class=\"storylink\">Sparks: A typeface for creating sparklines in text without code</a><span class=\"sitebit comhead\"> (<a href=\"from?site=github.com\"><span class=\"sitestr\">github.com</span></a>)</span></td></tr><tr><td colspan=\"2\"></td><td class=\"subtext\">\n",
      "        <span class=\"score\" id=\"score_23093815\">69 points</span> by <a href=\"user?id=boredgamer2\" class=\"hnuser\">boredgamer2</a> <span class=\"age\"><a href=\"item?id=23093815\">1 hour ago</a></span> <span id=\"unv_23093815\"></span> | <a href=\"hide?id=23093815&amp;goto=news\">hide</a> | <a href=\"item?id=23093815\">11&nbsp;comments</a>              </td></tr>\n",
      "      <tr class=\"spacer\" style=\"height:5px\"></tr>\n",
      "                <tr class='athing' id='23095085'>\n",
      "      <td align=\"right\" valign=\"top\" class=\"title\"><span class=\"rank\">7.</span></td>      <td valign=\"top\" class=\"votelinks\"><center><a id='up_23095085' href='vote?id=23095085&amp;how=up&amp;goto=news'><div class='votearrow' title='upvote'></div></a></center></td><td class=\"title\"><a href=\"https://www.bbc.com/news/world-asia-52540733\" class=\"storylink\">New Zealand PM: No open borders for 'a long time'</a><span class=\"sitebit comhead\"> (<a href=\"from?site=bbc.com\"><span class=\"sitestr\">bbc.com</span></a>)</span></td></tr><tr><td colspan=\"2\"></td><td class=\"subtext\">\n",
      "        <span class=\"score\" id=\"score_23095085\">14 points</span> by <a href=\"user?id=Reedx\" class=\"hnuser\">Reedx</a> <span class=\"age\"><a href=\"item?id=23095085\">23 minutes ago</a></span> <span id=\"unv_23095085\"></span> | <a href=\"hide?id=23095085&amp;goto=news\">hide</a> | <a href=\"item?id=23095085\">1&nbsp;comment</a>              </td></tr>\n",
      "      <tr class=\"spacer\" style=\"height:5px\"></tr>\n",
      "                <tr class='athing' id='23094869'>\n",
      "      <td align=\"right\" valign=\"top\" class=\"title\"><span class=\"rank\">8.</span></td>      <td valign=\"top\" class=\"votelinks\"><center><a id='up_23094869' href='vote?id=23094869&amp;how=up&amp;goto=news'><div class='votearrow' title='upvote'></div></a></center></td><td class=\"title\"><a href=\"https://www.onlinetoolsexpert.com/godaddy-confirms-data-breach/\" class=\"storylink\">GoDaddy Confirms Data Breach – 28000 Customers Affected</a><span class=\"sitebit comhead\"> (<a href=\"from?site=onlinetoolsexpert.com\"><span class=\"sitestr\">onlinetoolsexpert.com</span></a>)</span></td></tr><tr><td colspan=\"2\"></td><td class=\"subtext\">\n",
      "        <span class=\"score\" id=\"score_23094869\">18 points</span> by <a href=\"user?id=notRobot\" class=\"hnuser\">notRobot</a> <span class=\"age\"><a href=\"item?id=23094869\">45 minutes ago</a></span> <span id=\"unv_23094869\"></span> | <a href=\"hide?id=23094869&amp;goto=news\">hide</a> | <a href=\"item?id=23094869\">discuss</a>              </td></tr>\n",
      "      <tr class=\"spacer\" style=\"height:5px\"></tr>\n",
      "                <tr class='athing' id='23095073'>\n",
      "      <td align=\"right\" valign=\"top\" class=\"title\"><span class=\"rank\">9.</span></td>      <td></td><td class=\"title\"><a href=\"https://jobs.lever.co/buildzoom/0e86e9ea-a3eb-4f19-8697-425db484942f\" class=\"storylink\" rel=\"nofollow\">BuildZoom (a better way to remodel) is hiring a remote growth associate</a><span class=\"sitebit comhead\"> (<a href=\"from?site=lever.co\"><span class=\"sitestr\">lever.co</span></a>)</span></td></tr><tr><td colspan=\"2\"></td><td class=\"subtext\">\n",
      "        <span class=\"age\"><a href=\"item?id=23095073\">25 minutes ago</a></span> | <a href=\"hide?id=23095073&amp;goto=news\">hide</a>      </td></tr>\n",
      "      <tr class=\"spacer\" style=\"height:5px\"></tr>\n",
      "                <tr class='athing' id='23091359'>\n",
      "      <td align=\"right\" valign=\"top\" class=\"title\"><span class=\"rank\">10.</span></td>      <td valign=\"top\" class=\"votelinks\"><center><a id='up_23091359' href='vote?id=23091359&amp;how=up&amp;goto=news'><div class='votearrow' title='upvote'></div></a></center></td><td class=\"title\"><a href=\"https://users.aalto.fi/~ave/BDA3.pdf\" class=\"storylink\">Bayesian Data Analysis 3rd ed [pdf] by Andrew Gelman et al.</a><span class=\"sitebit comhead\"> (<a href=\"from?site=aalto.fi\"><span class=\"sitestr\">aalto.fi</span></a>)</span></td></tr><tr><td colspan=\"2\"></td><td class=\"subtext\">\n",
      "        <span class=\"score\" id=\"score_23091359\">203 points</span> by <a href=\"user?id=malshe\" class=\"hnuser\">malshe</a> <span class=\"age\"><a href=\"item?id=23091359\">5 hours ago</a></span> <span id=\"unv_23091359\"></span> | <a href=\"hide?id=23091359&amp;goto=news\">hide</a> | <a href=\"item?id=23091359\">8&nbsp;comments</a>              </td></tr>\n",
      "      <tr class=\"spacer\" style=\"height:5px\"></tr>\n",
      "                <tr class='athing' id='23094876'>\n",
      "      <td align=\"right\" valign=\"top\" class=\"title\"><span class=\"rank\">11.</span></td>      <td valign=\"top\" class=\"votelinks\"><center><a id='up_23094876' href='vote?id=23094876&amp;how=up&amp;goto=news'><div class='votearrow' title='upvote'></div></a></center></td><td class=\"title\"><a href=\"https://www.alexwest.co/posts/129\" class=\"storylink\">I got my first $50/mo customer</a><span class=\"sitebit comhead\"> (<a href=\"from?site=alexwest.co\"><span class=\"sitestr\">alexwest.co</span></a>)</span></td></tr><tr><td colspan=\"2\"></td><td class=\"subtext\">\n",
      "        <span class=\"score\" id=\"score_23094876\">23 points</span> by <a href=\"user?id=Malfunction92\" class=\"hnuser\">Malfunction92</a> <span class=\"age\"><a href=\"item?id=23094876\">44 minutes ago</a></span> <span id=\"unv_23094876\"></span> | <a href=\"hide?id=23094876&amp;goto=news\">hide</a> | <a href=\"item?id=23094876\">14&nbsp;comments</a>              </td></tr>\n",
      "      <tr class=\"spacer\" style=\"height:5px\"></tr>\n",
      "                <tr class='athing' id='23063155'>\n",
      "      <td align=\"right\" valign=\"top\" class=\"title\"><span class=\"rank\">12.</span></td>      <td valign=\"top\" class=\"votelinks\"><center><a id='up_23063155' href='vote?id=23063155&amp;how=up&amp;goto=news'><div class='votearrow' title='upvote'></div></a></center></td><td class=\"title\"><a href=\"http://forgetoday.com/2020/05/03/scientists-find-life-in-dead-brain-cells/\" class=\"storylink\">Scientists find life in dead brain cells</a><span class=\"sitebit comhead\"> (<a href=\"from?site=forgetoday.com\"><span class=\"sitestr\">forgetoday.com</span></a>)</span></td></tr><tr><td colspan=\"2\"></td><td class=\"subtext\">\n",
      "        <span class=\"score\" id=\"score_23063155\">49 points</span> by <a href=\"user?id=laurex\" class=\"hnuser\">laurex</a> <span class=\"age\"><a href=\"item?id=23063155\">3 hours ago</a></span> <span id=\"unv_23063155\"></span> | <a href=\"hide?id=23063155&amp;goto=news\">hide</a> | <a href=\"item?id=23063155\">18&nbsp;comments</a>              </td></tr>\n",
      "      <tr class=\"spacer\" style=\"height:5px\"></tr>\n",
      "                <tr class='athing' id='23094477'>\n",
      "      <td align=\"right\" valign=\"top\" class=\"title\"><span class=\"rank\">13.</span></td>      <td valign=\"top\" class=\"votelinks\"><center><a id='up_23094477' href='vote?id=23094477&amp;how=up&amp;goto=news'><div class='votearrow' title='upvote'></div></a></center></td><td class=\"title\"><a href=\"https://buttplug.io/\" class=\"storylink\">Buttplug: An open-source software suite for teledildonics</a><span class=\"sitebit comhead\"> (<a href=\"from?site=buttplug.io\"><span class=\"sitestr\">buttplug.io</span></a>)</span></td></tr><tr><td colspan=\"2\"></td><td class=\"subtext\">\n",
      "        <span class=\"score\" id=\"score_23094477\">132 points</span> by <a href=\"user?id=vopi\" class=\"hnuser\">vopi</a> <span class=\"age\"><a href=\"item?id=23094477\">1 hour ago</a></span> <span id=\"unv_23094477\"></span> | <a href=\"hide?id=23094477&amp;goto=news\">hide</a> | <a href=\"item?id=23094477\">63&nbsp;comments</a>              </td></tr>\n",
      "      <tr class=\"spacer\" style=\"height:5px\"></tr>\n",
      "                <tr class='athing' id='23092966'>\n",
      "      <td align=\"right\" valign=\"top\" class=\"title\"><span class=\"rank\">14.</span></td>      <td valign=\"top\" class=\"votelinks\"><center><a id='up_23092966' href='vote?id=23092966&amp;how=up&amp;goto=news'><div class='votearrow' title='upvote'></div></a></center></td><td class=\"title\"><a href=\"https://github.com/features/insights\" class=\"storylink\">GitHub Insights</a><span class=\"sitebit comhead\"> (<a href=\"from?site=github.com\"><span class=\"sitestr\">github.com</span></a>)</span></td></tr><tr><td colspan=\"2\"></td><td class=\"subtext\">\n",
      "        <span class=\"score\" id=\"score_23092966\">146 points</span> by <a href=\"user?id=blackrobot\" class=\"hnuser\">blackrobot</a> <span class=\"age\"><a href=\"item?id=23092966\">3 hours ago</a></span> <span id=\"unv_23092966\"></span> | <a href=\"hide?id=23092966&amp;goto=news\">hide</a> | <a href=\"item?id=23092966\">34&nbsp;comments</a>              </td></tr>\n",
      "      <tr class=\"spacer\" style=\"height:5px\"></tr>\n",
      "                <tr class='athing' id='23091060'>\n",
      "      <td align=\"right\" valign=\"top\" class=\"title\"><span class=\"rank\">15.</span></td>      <td valign=\"top\" class=\"votelinks\"><center><a id='up_23091060' href='vote?id=23091060&amp;how=up&amp;goto=news'><div class='votearrow' title='upvote'></div></a></center></td><td class=\"title\"><a href=\"https://www.eso.org/public/news/eso2007/\" class=\"storylink\">ESO Instrument Finds Closest Black Hole to Earth</a><span class=\"sitebit comhead\"> (<a href=\"from?site=eso.org\"><span class=\"sitestr\">eso.org</span></a>)</span></td></tr><tr><td colspan=\"2\"></td><td class=\"subtext\">\n",
      "        <span class=\"score\" id=\"score_23091060\">92 points</span> by <a href=\"user?id=origgm\" class=\"hnuser\">origgm</a> <span class=\"age\"><a href=\"item?id=23091060\">5 hours ago</a></span> <span id=\"unv_23091060\"></span> | <a href=\"hide?id=23091060&amp;goto=news\">hide</a> | <a href=\"item?id=23091060\">38&nbsp;comments</a>              </td></tr>\n",
      "      <tr class=\"spacer\" style=\"height:5px\"></tr>\n",
      "                <tr class='athing' id='23089197'>\n",
      "      <td align=\"right\" valign=\"top\" class=\"title\"><span class=\"rank\">16.</span></td>      <td valign=\"top\" class=\"votelinks\"><center><a id='up_23089197' href='vote?id=23089197&amp;how=up&amp;goto=news'><div class='votearrow' title='upvote'></div></a></center></td><td class=\"title\"><a href=\"https://www.bloomberg.com/news/features/2020-05-01/wanna-do-business-in-pyongyang-call-north-korea-s-guy-in-spain\" class=\"storylink\">Wanna Do Business in Pyongyang? Call Alejandro Cao de Benós</a><span class=\"sitebit comhead\"> (<a href=\"from?site=bloomberg.com\"><span class=\"sitestr\">bloomberg.com</span></a>)</span></td></tr><tr><td colspan=\"2\"></td><td class=\"subtext\">\n",
      "        <span class=\"score\" id=\"score_23089197\">47 points</span> by <a href=\"user?id=heyiamlukas\" class=\"hnuser\">heyiamlukas</a> <span class=\"age\"><a href=\"item?id=23089197\">4 hours ago</a></span> <span id=\"unv_23089197\"></span> | <a href=\"hide?id=23089197&amp;goto=news\">hide</a> | <a href=\"item?id=23089197\">26&nbsp;comments</a>              </td></tr>\n",
      "      <tr class=\"spacer\" style=\"height:5px\"></tr>\n",
      "                <tr class='athing' id='23090858'>\n",
      "      <td align=\"right\" valign=\"top\" class=\"title\"><span class=\"rank\">17.</span></td>      <td valign=\"top\" class=\"votelinks\"><center><a id='up_23090858' href='vote?id=23090858&amp;how=up&amp;goto=news'><div class='votearrow' title='upvote'></div></a></center></td><td class=\"title\"><a href=\"https://techcrunch.com/2020/05/06/uber-is-laying-off-3700-as-rides-plummet-due-to-covid-19/\" class=\"storylink\">Uber is laying off 3,700, as rides plummet due to Covid-19</a><span class=\"sitebit comhead\"> (<a href=\"from?site=techcrunch.com\"><span class=\"sitestr\">techcrunch.com</span></a>)</span></td></tr><tr><td colspan=\"2\"></td><td class=\"subtext\">\n",
      "        <span class=\"score\" id=\"score_23090858\">375 points</span> by <a href=\"user?id=kkcorps\" class=\"hnuser\">kkcorps</a> <span class=\"age\"><a href=\"item?id=23090858\">5 hours ago</a></span> <span id=\"unv_23090858\"></span> | <a href=\"hide?id=23090858&amp;goto=news\">hide</a> | <a href=\"item?id=23090858\">341&nbsp;comments</a>              </td></tr>\n",
      "      <tr class=\"spacer\" style=\"height:5px\"></tr>\n",
      "                <tr class='athing' id='23091932'>\n",
      "      <td align=\"right\" valign=\"top\" class=\"title\"><span class=\"rank\">18.</span></td>      <td valign=\"top\" class=\"votelinks\"><center><a id='up_23091932' href='vote?id=23091932&amp;how=up&amp;goto=news'><div class='votearrow' title='upvote'></div></a></center></td><td class=\"title\"><a href=\"https://www.bbc.com/news/technology-52532930\" class=\"storylink\">Facebook uses 1.5bn Reddit posts to create chatbot</a><span class=\"sitebit comhead\"> (<a href=\"from?site=bbc.com\"><span class=\"sitestr\">bbc.com</span></a>)</span></td></tr><tr><td colspan=\"2\"></td><td class=\"subtext\">\n",
      "        <span class=\"score\" id=\"score_23091932\">90 points</span> by <a href=\"user?id=elorant\" class=\"hnuser\">elorant</a> <span class=\"age\"><a href=\"item?id=23091932\">4 hours ago</a></span> <span id=\"unv_23091932\"></span> | <a href=\"hide?id=23091932&amp;goto=news\">hide</a> | <a href=\"item?id=23091932\">77&nbsp;comments</a>              </td></tr>\n",
      "      <tr class=\"spacer\" style=\"height:5px\"></tr>\n",
      "                <tr class='athing' id='23064074'>\n",
      "      <td align=\"right\" valign=\"top\" class=\"title\"><span class=\"rank\">19.</span></td>      <td valign=\"top\" class=\"votelinks\"><center><a id='up_23064074' href='vote?id=23064074&amp;how=up&amp;goto=news'><div class='votearrow' title='upvote'></div></a></center></td><td class=\"title\"><a href=\"https://en.wikipedia.org/wiki/Caffe_Mediterraneum\" class=\"storylink\">Cafe Mediterraneum</a><span class=\"sitebit comhead\"> (<a href=\"from?site=wikipedia.org\"><span class=\"sitestr\">wikipedia.org</span></a>)</span></td></tr><tr><td colspan=\"2\"></td><td class=\"subtext\">\n",
      "        <span class=\"score\" id=\"score_23064074\">8 points</span> by <a href=\"user?id=simonebrunozzi\" class=\"hnuser\">simonebrunozzi</a> <span class=\"age\"><a href=\"item?id=23064074\">1 hour ago</a></span> <span id=\"unv_23064074\"></span> | <a href=\"hide?id=23064074&amp;goto=news\">hide</a> | <a href=\"item?id=23064074\">1&nbsp;comment</a>              </td></tr>\n",
      "      <tr class=\"spacer\" style=\"height:5px\"></tr>\n",
      "                <tr class='athing' id='23089343'>\n",
      "      <td align=\"right\" valign=\"top\" class=\"title\"><span class=\"rank\">20.</span></td>      <td valign=\"top\" class=\"votelinks\"><center><a id='up_23089343' href='vote?id=23089343&amp;how=up&amp;goto=news'><div class='votearrow' title='upvote'></div></a></center></td><td class=\"title\"><a href=\"https://en.wikipedia.org/wiki/Onfim\" class=\"storylink\">Onfim</a><span class=\"sitebit comhead\"> (<a href=\"from?site=wikipedia.org\"><span class=\"sitestr\">wikipedia.org</span></a>)</span></td></tr><tr><td colspan=\"2\"></td><td class=\"subtext\">\n",
      "        <span class=\"score\" id=\"score_23089343\">227 points</span> by <a href=\"user?id=simonebrunozzi\" class=\"hnuser\">simonebrunozzi</a> <span class=\"age\"><a href=\"item?id=23089343\">9 hours ago</a></span> <span id=\"unv_23089343\"></span> | <a href=\"hide?id=23089343&amp;goto=news\">hide</a> | <a href=\"item?id=23089343\">39&nbsp;comments</a>              </td></tr>\n",
      "      <tr class=\"spacer\" style=\"height:5px\"></tr>\n",
      "                <tr class='athing' id='23094489'>\n",
      "      <td align=\"right\" valign=\"top\" class=\"title\"><span class=\"rank\">21.</span></td>      <td valign=\"top\" class=\"votelinks\"><center><a id='up_23094489' href='vote?id=23094489&amp;how=up&amp;goto=news'><div class='votearrow' title='upvote'></div></a></center></td><td class=\"title\"><a href=\"https://locusmag.com/2020/05/cory-doctorow-rules-for-writers/\" class=\"storylink\">Rules for Writers</a><span class=\"sitebit comhead\"> (<a href=\"from?site=locusmag.com\"><span class=\"sitestr\">locusmag.com</span></a>)</span></td></tr><tr><td colspan=\"2\"></td><td class=\"subtext\">\n",
      "        <span class=\"score\" id=\"score_23094489\">6 points</span> by <a href=\"user?id=fanf2\" class=\"hnuser\">fanf2</a> <span class=\"age\"><a href=\"item?id=23094489\">1 hour ago</a></span> <span id=\"unv_23094489\"></span> | <a href=\"hide?id=23094489&amp;goto=news\">hide</a> | <a href=\"item?id=23094489\">discuss</a>              </td></tr>\n",
      "      <tr class=\"spacer\" style=\"height:5px\"></tr>\n",
      "                <tr class='athing' id='23093990'>\n",
      "      <td align=\"right\" valign=\"top\" class=\"title\"><span class=\"rank\">22.</span></td>      <td valign=\"top\" class=\"votelinks\"><center><a id='up_23093990' href='vote?id=23093990&amp;how=up&amp;goto=news'><div class='votearrow' title='upvote'></div></a></center></td><td class=\"title\"><a href=\"http://hn.luap.info/\" class=\"storylink\" rel=\"nofollow\">Show HN: My filter for finding more original articles on HN</a><span class=\"sitebit comhead\"> (<a href=\"from?site=luap.info\"><span class=\"sitestr\">luap.info</span></a>)</span></td></tr><tr><td colspan=\"2\"></td><td class=\"subtext\">\n",
      "        <span class=\"score\" id=\"score_23093990\">6 points</span> by <a href=\"user?id=polote\" class=\"hnuser\">polote</a> <span class=\"age\"><a href=\"item?id=23093990\">43 minutes ago</a></span> <span id=\"unv_23093990\"></span> | <a href=\"hide?id=23093990&amp;goto=news\">hide</a> | <a href=\"item?id=23093990\">1&nbsp;comment</a>              </td></tr>\n",
      "      <tr class=\"spacer\" style=\"height:5px\"></tr>\n",
      "                <tr class='athing' id='23090601'>\n",
      "      <td align=\"right\" valign=\"top\" class=\"title\"><span class=\"rank\">23.</span></td>      <td valign=\"top\" class=\"votelinks\"><center><a id='up_23090601' href='vote?id=23090601&amp;how=up&amp;goto=news'><div class='votearrow' title='upvote'></div></a></center></td><td class=\"title\"><a href=\"https://blogs.windows.com/devices/2020/05/06/introducing-surface-go-2-surface-book-3-surface-headphones-2-and-surface-earbuds/\" class=\"storylink\">Surface Go 2, Surface Book 3, Surface Headphones 2 and Surface Earbuds</a><span class=\"sitebit comhead\"> (<a href=\"from?site=windows.com\"><span class=\"sitestr\">windows.com</span></a>)</span></td></tr><tr><td colspan=\"2\"></td><td class=\"subtext\">\n",
      "        <span class=\"score\" id=\"score_23090601\">216 points</span> by <a href=\"user?id=caution\" class=\"hnuser\">caution</a> <span class=\"age\"><a href=\"item?id=23090601\">6 hours ago</a></span> <span id=\"unv_23090601\"></span> | <a href=\"hide?id=23090601&amp;goto=news\">hide</a> | <a href=\"item?id=23090601\">217&nbsp;comments</a>              </td></tr>\n",
      "      <tr class=\"spacer\" style=\"height:5px\"></tr>\n",
      "                <tr class='athing' id='23089243'>\n",
      "      <td align=\"right\" valign=\"top\" class=\"title\"><span class=\"rank\">24.</span></td>      <td valign=\"top\" class=\"votelinks\"><center><a id='up_23089243' href='vote?id=23089243&amp;how=up&amp;goto=news'><div class='votearrow' title='upvote'></div></a></center></td><td class=\"title\"><a href=\"https://axiom.ai/\" class=\"storylink\">Show HN: Axiom – No-code Browser Automation</a><span class=\"sitebit comhead\"> (<a href=\"from?site=axiom.ai\"><span class=\"sitestr\">axiom.ai</span></a>)</span></td></tr><tr><td colspan=\"2\"></td><td class=\"subtext\">\n",
      "        <span class=\"score\" id=\"score_23089243\">206 points</span> by <a href=\"user?id=yaseer\" class=\"hnuser\">yaseer</a> <span class=\"age\"><a href=\"item?id=23089243\">10 hours ago</a></span> <span id=\"unv_23089243\"></span> | <a href=\"hide?id=23089243&amp;goto=news\">hide</a> | <a href=\"item?id=23089243\">99&nbsp;comments</a>              </td></tr>\n",
      "      <tr class=\"spacer\" style=\"height:5px\"></tr>\n",
      "                <tr class='athing' id='23091005'>\n",
      "      <td align=\"right\" valign=\"top\" class=\"title\"><span class=\"rank\">25.</span></td>      <td valign=\"top\" class=\"votelinks\"><center><a id='up_23091005' href='vote?id=23091005&amp;how=up&amp;goto=news'><div class='votearrow' title='upvote'></div></a></center></td><td class=\"title\"><a href=\"https://frappebooks.com\" class=\"storylink\">Show HN: FrappeBooks – Free and Open Source, Modern Desktop Accounting for SMB</a><span class=\"sitebit comhead\"> (<a href=\"from?site=frappebooks.com\"><span class=\"sitestr\">frappebooks.com</span></a>)</span></td></tr><tr><td colspan=\"2\"></td><td class=\"subtext\">\n",
      "        <span class=\"score\" id=\"score_23091005\">64 points</span> by <a href=\"user?id=rushabh\" class=\"hnuser\">rushabh</a> <span class=\"age\"><a href=\"item?id=23091005\">5 hours ago</a></span> <span id=\"unv_23091005\"></span> | <a href=\"hide?id=23091005&amp;goto=news\">hide</a> | <a href=\"item?id=23091005\">16&nbsp;comments</a>              </td></tr>\n",
      "      <tr class=\"spacer\" style=\"height:5px\"></tr>\n",
      "                <tr class='athing' id='23088314'>\n",
      "      <td align=\"right\" valign=\"top\" class=\"title\"><span class=\"rank\">26.</span></td>      <td valign=\"top\" class=\"votelinks\"><center><a id='up_23088314' href='vote?id=23088314&amp;how=up&amp;goto=news'><div class='votearrow' title='upvote'></div></a></center></td><td class=\"title\"><a href=\"https://microsoft.github.io/microsoft-ui-xaml/\" class=\"storylink\">WinUI – The modern native UI platform of Windows</a><span class=\"sitebit comhead\"> (<a href=\"from?site=microsoft.github.io\"><span class=\"sitestr\">microsoft.github.io</span></a>)</span></td></tr><tr><td colspan=\"2\"></td><td class=\"subtext\">\n",
      "        <span class=\"score\" id=\"score_23088314\">259 points</span> by <a href=\"user?id=pjmlp\" class=\"hnuser\">pjmlp</a> <span class=\"age\"><a href=\"item?id=23088314\">13 hours ago</a></span> <span id=\"unv_23088314\"></span> | <a href=\"hide?id=23088314&amp;goto=news\">hide</a> | <a href=\"item?id=23088314\">329&nbsp;comments</a>              </td></tr>\n",
      "      <tr class=\"spacer\" style=\"height:5px\"></tr>\n",
      "                <tr class='athing' id='23093911'>\n",
      "      <td align=\"right\" valign=\"top\" class=\"title\"><span class=\"rank\">27.</span></td>      <td valign=\"top\" class=\"votelinks\"><center><a id='up_23093911' href='vote?id=23093911&amp;how=up&amp;goto=news'><div class='votearrow' title='upvote'></div></a></center></td><td class=\"title\"><a href=\"https://thisfursonadoesnotexist.com/\" class=\"storylink\">Show HN: Fursona Does Not Exist</a><span class=\"sitebit comhead\"> (<a href=\"from?site=thisfursonadoesnotexist.com\"><span class=\"sitestr\">thisfursonadoesnotexist.com</span></a>)</span></td></tr><tr><td colspan=\"2\"></td><td class=\"subtext\">\n",
      "        <span class=\"score\" id=\"score_23093911\">77 points</span> by <a href=\"user?id=arfafax\" class=\"hnuser\">arfafax</a> <span class=\"age\"><a href=\"item?id=23093911\">1 hour ago</a></span> <span id=\"unv_23093911\"></span> | <a href=\"hide?id=23093911&amp;goto=news\">hide</a> | <a href=\"item?id=23093911\">49&nbsp;comments</a>              </td></tr>\n",
      "      <tr class=\"spacer\" style=\"height:5px\"></tr>\n",
      "                <tr class='athing' id='23089544'>\n",
      "      <td align=\"right\" valign=\"top\" class=\"title\"><span class=\"rank\">28.</span></td>      <td valign=\"top\" class=\"votelinks\"><center><a id='up_23089544' href='vote?id=23089544&amp;how=up&amp;goto=news'><div class='votearrow' title='upvote'></div></a></center></td><td class=\"title\"><a href=\"https://tratt.net/laurie/blog/entries/alternative_sources_of_advice.html\" class=\"storylink\">Alternative Sources of Advice</a><span class=\"sitebit comhead\"> (<a href=\"from?site=tratt.net\"><span class=\"sitestr\">tratt.net</span></a>)</span></td></tr><tr><td colspan=\"2\"></td><td class=\"subtext\">\n",
      "        <span class=\"score\" id=\"score_23089544\">9 points</span> by <a href=\"user?id=fniephaus\" class=\"hnuser\">fniephaus</a> <span class=\"age\"><a href=\"item?id=23089544\">2 hours ago</a></span> <span id=\"unv_23089544\"></span> | <a href=\"hide?id=23089544&amp;goto=news\">hide</a> | <a href=\"item?id=23089544\">discuss</a>              </td></tr>\n",
      "      <tr class=\"spacer\" style=\"height:5px\"></tr>\n",
      "                <tr class='athing' id='23090150'>\n",
      "      <td align=\"right\" valign=\"top\" class=\"title\"><span class=\"rank\">29.</span></td>      <td valign=\"top\" class=\"votelinks\"><center><a id='up_23090150' href='vote?id=23090150&amp;how=up&amp;goto=news'><div class='votearrow' title='upvote'></div></a></center></td><td class=\"title\"><a href=\"https://bigmedium.com/ideas/systems-smart-enough-to-know-theyre-not-smart-enough.html\" class=\"storylink\">Systems Smart Enough to Know When They're Not Smart Enough (2017)</a><span class=\"sitebit comhead\"> (<a href=\"from?site=bigmedium.com\"><span class=\"sitestr\">bigmedium.com</span></a>)</span></td></tr><tr><td colspan=\"2\"></td><td class=\"subtext\">\n",
      "        <span class=\"score\" id=\"score_23090150\">61 points</span> by <a href=\"user?id=nromiun\" class=\"hnuser\">nromiun</a> <span class=\"age\"><a href=\"item?id=23090150\">7 hours ago</a></span> <span id=\"unv_23090150\"></span> | <a href=\"hide?id=23090150&amp;goto=news\">hide</a> | <a href=\"item?id=23090150\">15&nbsp;comments</a>              </td></tr>\n",
      "      <tr class=\"spacer\" style=\"height:5px\"></tr>\n",
      "                <tr class='athing' id='23091136'>\n",
      "      <td align=\"right\" valign=\"top\" class=\"title\"><span class=\"rank\">30.</span></td>      <td valign=\"top\" class=\"votelinks\"><center><a id='up_23091136' href='vote?id=23091136&amp;how=up&amp;goto=news'><div class='votearrow' title='upvote'></div></a></center></td><td class=\"title\"><a href=\"https://www.theregister.co.uk/2003/09/11/bill_joys_greatest_gift/\" class=\"storylink\">Bill Joy's greatest gift to man – the vi editor (2003)</a><span class=\"sitebit comhead\"> (<a href=\"from?site=theregister.co.uk\"><span class=\"sitestr\">theregister.co.uk</span></a>)</span></td></tr><tr><td colspan=\"2\"></td><td class=\"subtext\">\n",
      "        <span class=\"score\" id=\"score_23091136\">167 points</span> by <a href=\"user?id=spking\" class=\"hnuser\">spking</a> <span class=\"age\"><a href=\"item?id=23091136\">5 hours ago</a></span> <span id=\"unv_23091136\"></span> | <a href=\"hide?id=23091136&amp;goto=news\">hide</a> | <a href=\"item?id=23091136\">110&nbsp;comments</a>              </td></tr>\n",
      "      <tr class=\"spacer\" style=\"height:5px\"></tr>\n",
      "            <tr class=\"morespace\" style=\"height:10px\"></tr><tr><td colspan=\"2\"></td><td class=\"title\"><a href=\"news?p=2\" class=\"morelink\" rel=\"next\">More</a></td></tr>\n",
      "  </table>\n",
      "</td></tr>\n",
      "<tr><td><img src=\"s.gif\" height=\"10\" width=\"0\"><table width=\"100%\" cellspacing=\"0\" cellpadding=\"1\"><tr><td bgcolor=\"#ff6600\"></td></tr></table><br><center><span class=\"yclinks\"><a href=\"newsguidelines.html\">Guidelines</a>\n",
      "        | <a href=\"newsfaq.html\">FAQ</a>\n",
      "        | <a href=\"mailto:hn@ycombinator.com\">Support</a>\n",
      "        | <a href=\"https://github.com/HackerNews/API\">API</a>\n",
      "        | <a href=\"security.html\">Security</a>\n",
      "        | <a href=\"lists\">Lists</a>\n",
      "        | <a href=\"bookmarklet.html\" rel=\"nofollow\">Bookmarklet</a>\n",
      "        | <a href=\"http://www.ycombinator.com/legal/\">Legal</a>\n",
      "        | <a href=\"http://www.ycombinator.com/apply/\">Apply to YC</a>\n",
      "        | <a href=\"mailto:hn@ycombinator.com\">Contact</a></span><br><br><form method=\"get\" action=\"//hn.algolia.com/\">Search:\n",
      "          <input type=\"text\" name=\"q\" value=\"\" size=\"17\" autocorrect=\"off\" spellcheck=\"false\" autocapitalize=\"off\" autocomplete=\"false\"></form>\n",
      "            </center></td></tr>\n",
      "      </table></center></body><script type='text/javascript' src='hn.js?MQDqhc17nNh85YVtzQo0'></script></html>\n",
      "\n"
     ]
    }
   ],
   "source": [
    "import requests\n",
    "\n",
    "# Fetch a web page\n",
    "r = requests.get(\"https://news.ycombinator.com\")\n",
    "print(r.text)"
   ]
  },
  {
   "cell_type": "code",
   "execution_count": 6,
   "metadata": {},
   "outputs": [
    {
     "name": "stdout",
     "output_type": "stream",
     "text": [
      "\n",
      "        \n",
      "          \n",
      "        Hacker News\n",
      "        \n",
      "                  Hacker News\n",
      "              new | past | comments | ask | show | jobs | submit            \n",
      "                              login\n",
      "                          \n",
      "              \n",
      "\n",
      "              \n",
      "      1.      GitHub Codespaces (github.com)\n",
      "        794 points by CraftThatBlock 3 hours ago  | hide | 272&nbsp;comments              \n",
      "      \n",
      "                \n",
      "      2.      No cookie consent walls, scrolling isn’t consent, says EU data protection body (techcrunch.com)\n",
      "        703 points by sohkamyung 6 hours ago  | hide | 660&nbsp;comments              \n",
      "      \n",
      "                \n",
      "      3.      Using human brain tissue in lab, researchers show herpes link to Alzheimer’s (statnews.com)\n",
      "        64 points by vo2maxer 1 hour ago  | hide | 21&nbsp;comments              \n",
      "      \n",
      "                \n",
      "      4.      Florian Schneider has died (bbc.co.uk)\n",
      "        178 points by arethuza 3 hours ago  | hide | 30&nbsp;comments              \n",
      "      \n",
      "                \n",
      "      5.      GitHub Codescanning (github.com)\n",
      "        181 points by jedisct1 3 hours ago  | hide | 39&nbsp;comments              \n",
      "      \n",
      "                \n",
      "      6.      Sparks: A typeface for creating sparklines in text without code (github.com)\n",
      "        69 points by boredgamer2 1 hour ago  | hide | 11&nbsp;comments              \n",
      "      \n",
      "                \n",
      "      7.      New Zealand PM: No open borders for 'a long time' (bbc.com)\n",
      "        14 points by Reedx 23 minutes ago  | hide | 1&nbsp;comment              \n",
      "      \n",
      "                \n",
      "      8.      GoDaddy Confirms Data Breach – 28000 Customers Affected (onlinetoolsexpert.com)\n",
      "        18 points by notRobot 45 minutes ago  | hide | discuss              \n",
      "      \n",
      "                \n",
      "      9.      BuildZoom (a better way to remodel) is hiring a remote growth associate (lever.co)\n",
      "        25 minutes ago | hide      \n",
      "      \n",
      "                \n",
      "      10.      Bayesian Data Analysis 3rd ed [pdf] by Andrew Gelman et al. (aalto.fi)\n",
      "        203 points by malshe 5 hours ago  | hide | 8&nbsp;comments              \n",
      "      \n",
      "                \n",
      "      11.      I got my first $50/mo customer (alexwest.co)\n",
      "        23 points by Malfunction92 44 minutes ago  | hide | 14&nbsp;comments              \n",
      "      \n",
      "                \n",
      "      12.      Scientists find life in dead brain cells (forgetoday.com)\n",
      "        49 points by laurex 3 hours ago  | hide | 18&nbsp;comments              \n",
      "      \n",
      "                \n",
      "      13.      Buttplug: An open-source software suite for teledildonics (buttplug.io)\n",
      "        132 points by vopi 1 hour ago  | hide | 63&nbsp;comments              \n",
      "      \n",
      "                \n",
      "      14.      GitHub Insights (github.com)\n",
      "        146 points by blackrobot 3 hours ago  | hide | 34&nbsp;comments              \n",
      "      \n",
      "                \n",
      "      15.      ESO Instrument Finds Closest Black Hole to Earth (eso.org)\n",
      "        92 points by origgm 5 hours ago  | hide | 38&nbsp;comments              \n",
      "      \n",
      "                \n",
      "      16.      Wanna Do Business in Pyongyang? Call Alejandro Cao de Benós (bloomberg.com)\n",
      "        47 points by heyiamlukas 4 hours ago  | hide | 26&nbsp;comments              \n",
      "      \n",
      "                \n",
      "      17.      Uber is laying off 3,700, as rides plummet due to Covid-19 (techcrunch.com)\n",
      "        375 points by kkcorps 5 hours ago  | hide | 341&nbsp;comments              \n",
      "      \n",
      "                \n",
      "      18.      Facebook uses 1.5bn Reddit posts to create chatbot (bbc.com)\n",
      "        90 points by elorant 4 hours ago  | hide | 77&nbsp;comments              \n",
      "      \n",
      "                \n",
      "      19.      Cafe Mediterraneum (wikipedia.org)\n",
      "        8 points by simonebrunozzi 1 hour ago  | hide | 1&nbsp;comment              \n",
      "      \n",
      "                \n",
      "      20.      Onfim (wikipedia.org)\n",
      "        227 points by simonebrunozzi 9 hours ago  | hide | 39&nbsp;comments              \n",
      "      \n",
      "                \n",
      "      21.      Rules for Writers (locusmag.com)\n",
      "        6 points by fanf2 1 hour ago  | hide | discuss              \n",
      "      \n",
      "                \n",
      "      22.      Show HN: My filter for finding more original articles on HN (luap.info)\n",
      "        6 points by polote 43 minutes ago  | hide | 1&nbsp;comment              \n",
      "      \n",
      "                \n",
      "      23.      Surface Go 2, Surface Book 3, Surface Headphones 2 and Surface Earbuds (windows.com)\n",
      "        216 points by caution 6 hours ago  | hide | 217&nbsp;comments              \n",
      "      \n",
      "                \n",
      "      24.      Show HN: Axiom – No-code Browser Automation (axiom.ai)\n",
      "        206 points by yaseer 10 hours ago  | hide | 99&nbsp;comments              \n",
      "      \n",
      "                \n",
      "      25.      Show HN: FrappeBooks – Free and Open Source, Modern Desktop Accounting for SMB (frappebooks.com)\n",
      "        64 points by rushabh 5 hours ago  | hide | 16&nbsp;comments              \n",
      "      \n",
      "                \n",
      "      26.      WinUI – The modern native UI platform of Windows (microsoft.github.io)\n",
      "        259 points by pjmlp 13 hours ago  | hide | 329&nbsp;comments              \n",
      "      \n",
      "                \n",
      "      27.      Show HN: Fursona Does Not Exist (thisfursonadoesnotexist.com)\n",
      "        77 points by arfafax 1 hour ago  | hide | 49&nbsp;comments              \n",
      "      \n",
      "                \n",
      "      28.      Alternative Sources of Advice (tratt.net)\n",
      "        9 points by fniephaus 2 hours ago  | hide | discuss              \n",
      "      \n",
      "                \n",
      "      29.      Systems Smart Enough to Know When They're Not Smart Enough (2017) (bigmedium.com)\n",
      "        61 points by nromiun 7 hours ago  | hide | 15&nbsp;comments              \n",
      "      \n",
      "                \n",
      "      30.      Bill Joy's greatest gift to man – the vi editor (2003) (theregister.co.uk)\n",
      "        167 points by spking 5 hours ago  | hide | 110&nbsp;comments              \n",
      "      \n",
      "            More\n",
      "  \n",
      "\n",
      "Guidelines\n",
      "        | FAQ\n",
      "        | Support\n",
      "        | API\n",
      "        | Security\n",
      "        | Lists\n",
      "        | Bookmarklet\n",
      "        | Legal\n",
      "        | Apply to YC\n",
      "        | ContactSearch:\n",
      "          \n",
      "            \n",
      "      \n",
      "\n"
     ]
    }
   ],
   "source": [
    "import re\n",
    "\n",
    "# Remove HTML tags using RegEx\n",
    "pattern = re.compile(r'<.*?>')  # tags look like <...>\n",
    "print(pattern.sub('', r.text))  # replace them with blank"
   ]
  },
  {
   "cell_type": "code",
   "execution_count": 7,
   "metadata": {},
   "outputs": [
    {
     "name": "stdout",
     "output_type": "stream",
     "text": [
      "\n",
      "        \n",
      "          \n",
      "        Hacker News\n",
      "        \n",
      "                  Hacker News\n",
      "              new | past | comments | ask | show | jobs | submit            \n",
      "                              login\n",
      "                          \n",
      "              \n",
      "\n",
      "              \n",
      "      1.      GitHub Codespaces (github.com)\n",
      "        794 points by CraftThatBlock 3 hours ago  | hide | 272 comments              \n",
      "      \n",
      "                \n",
      "      2.      No cookie consent walls, scrolling isn’t consent, says EU data protection body (techcrunch.com)\n",
      "        703 points by sohkamyung 6 hours ago  | hide | 660 comments              \n",
      "      \n",
      "                \n",
      "      3.      Using human brain tissue in lab, researchers show herpes link to Alzheimer’s (statnews.com)\n",
      "        64 points by vo2maxer 1 hour ago  | hide | 21 comments              \n",
      "      \n",
      "                \n",
      "      4.      Florian Schneider has died (bbc.co.uk)\n",
      "        178 points by arethuza 3 hours ago  | hide | 30 comments              \n",
      "      \n",
      "                \n",
      "      5.      GitHub Codescanning (github.com)\n",
      "        181 points by jedisct1 3 hours ago  | hide | 39 comments              \n",
      "      \n",
      "                \n",
      "      6.      Sparks: A typeface for creating sparklines in text without code (github.com)\n",
      "        69 points by boredgamer2 1 hour ago  | hide | 11 comments              \n",
      "      \n",
      "                \n",
      "      7.      New Zealand PM: No open borders for 'a long time' (bbc.com)\n",
      "        14 points by Reedx 23 minutes ago  | hide | 1 comment              \n",
      "      \n",
      "                \n",
      "      8.      GoDaddy Confirms Data Breach – 28000 Customers Affected (onlinetoolsexpert.com)\n",
      "        18 points by notRobot 45 minutes ago  | hide | discuss              \n",
      "      \n",
      "                \n",
      "      9.      BuildZoom (a better way to remodel) is hiring a remote growth associate (lever.co)\n",
      "        25 minutes ago | hide      \n",
      "      \n",
      "                \n",
      "      10.      Bayesian Data Analysis 3rd ed [pdf] by Andrew Gelman et al. (aalto.fi)\n",
      "        203 points by malshe 5 hours ago  | hide | 8 comments              \n",
      "      \n",
      "                \n",
      "      11.      I got my first $50/mo customer (alexwest.co)\n",
      "        23 points by Malfunction92 44 minutes ago  | hide | 14 comments              \n",
      "      \n",
      "                \n",
      "      12.      Scientists find life in dead brain cells (forgetoday.com)\n",
      "        49 points by laurex 3 hours ago  | hide | 18 comments              \n",
      "      \n",
      "                \n",
      "      13.      Buttplug: An open-source software suite for teledildonics (buttplug.io)\n",
      "        132 points by vopi 1 hour ago  | hide | 63 comments              \n",
      "      \n",
      "                \n",
      "      14.      GitHub Insights (github.com)\n",
      "        146 points by blackrobot 3 hours ago  | hide | 34 comments              \n",
      "      \n",
      "                \n",
      "      15.      ESO Instrument Finds Closest Black Hole to Earth (eso.org)\n",
      "        92 points by origgm 5 hours ago  | hide | 38 comments              \n",
      "      \n",
      "                \n",
      "      16.      Wanna Do Business in Pyongyang? Call Alejandro Cao de Benós (bloomberg.com)\n",
      "        47 points by heyiamlukas 4 hours ago  | hide | 26 comments              \n",
      "      \n",
      "                \n",
      "      17.      Uber is laying off 3,700, as rides plummet due to Covid-19 (techcrunch.com)\n",
      "        375 points by kkcorps 5 hours ago  | hide | 341 comments              \n",
      "      \n",
      "                \n",
      "      18.      Facebook uses 1.5bn Reddit posts to create chatbot (bbc.com)\n",
      "        90 points by elorant 4 hours ago  | hide | 77 comments              \n",
      "      \n",
      "                \n",
      "      19.      Cafe Mediterraneum (wikipedia.org)\n",
      "        8 points by simonebrunozzi 1 hour ago  | hide | 1 comment              \n",
      "      \n",
      "                \n",
      "      20.      Onfim (wikipedia.org)\n",
      "        227 points by simonebrunozzi 9 hours ago  | hide | 39 comments              \n",
      "      \n",
      "                \n",
      "      21.      Rules for Writers (locusmag.com)\n",
      "        6 points by fanf2 1 hour ago  | hide | discuss              \n",
      "      \n",
      "                \n",
      "      22.      Show HN: My filter for finding more original articles on HN (luap.info)\n",
      "        6 points by polote 43 minutes ago  | hide | 1 comment              \n",
      "      \n",
      "                \n",
      "      23.      Surface Go 2, Surface Book 3, Surface Headphones 2 and Surface Earbuds (windows.com)\n",
      "        216 points by caution 6 hours ago  | hide | 217 comments              \n",
      "      \n",
      "                \n",
      "      24.      Show HN: Axiom – No-code Browser Automation (axiom.ai)\n",
      "        206 points by yaseer 10 hours ago  | hide | 99 comments              \n",
      "      \n",
      "                \n",
      "      25.      Show HN: FrappeBooks – Free and Open Source, Modern Desktop Accounting for SMB (frappebooks.com)\n",
      "        64 points by rushabh 5 hours ago  | hide | 16 comments              \n",
      "      \n",
      "                \n",
      "      26.      WinUI – The modern native UI platform of Windows (microsoft.github.io)\n",
      "        259 points by pjmlp 13 hours ago  | hide | 329 comments              \n",
      "      \n",
      "                \n",
      "      27.      Show HN: Fursona Does Not Exist (thisfursonadoesnotexist.com)\n",
      "        77 points by arfafax 1 hour ago  | hide | 49 comments              \n",
      "      \n",
      "                \n",
      "      28.      Alternative Sources of Advice (tratt.net)\n",
      "        9 points by fniephaus 2 hours ago  | hide | discuss              \n",
      "      \n",
      "                \n",
      "      29.      Systems Smart Enough to Know When They're Not Smart Enough (2017) (bigmedium.com)\n",
      "        61 points by nromiun 7 hours ago  | hide | 15 comments              \n",
      "      \n",
      "                \n",
      "      30.      Bill Joy's greatest gift to man – the vi editor (2003) (theregister.co.uk)\n",
      "        167 points by spking 5 hours ago  | hide | 110 comments              \n",
      "      \n",
      "            More\n",
      "  \n",
      "\n",
      "Guidelines\n",
      "        | FAQ\n",
      "        | Support\n",
      "        | API\n",
      "        | Security\n",
      "        | Lists\n",
      "        | Bookmarklet\n",
      "        | Legal\n",
      "        | Apply to YC\n",
      "        | ContactSearch:\n",
      "          \n",
      "            \n",
      "      \n",
      "\n"
     ]
    }
   ],
   "source": [
    "from bs4 import BeautifulSoup\n",
    "\n",
    "# Remove HTML tags using Beautiful Soup library\n",
    "soup = BeautifulSoup(r.text, \"html5lib\")\n",
    "print(soup.get_text())"
   ]
  },
  {
   "cell_type": "code",
   "execution_count": 8,
   "metadata": {
    "scrolled": true
   },
   "outputs": [
    {
     "data": {
      "text/plain": [
       "<tr class=\"athing\" id=\"23092904\">\n",
       "      <td align=\"right\" class=\"title\" valign=\"top\"><span class=\"rank\">1.</span></td>      <td class=\"votelinks\" valign=\"top\"><center><a href=\"vote?id=23092904&amp;how=up&amp;goto=news\" id=\"up_23092904\"><div class=\"votearrow\" title=\"upvote\"></div></a></center></td><td class=\"title\"><a class=\"storylink\" href=\"https://github.com/features/codespaces\">GitHub Codespaces</a><span class=\"sitebit comhead\"> (<a href=\"from?site=github.com\"><span class=\"sitestr\">github.com</span></a>)</span></td></tr>"
      ]
     },
     "execution_count": 8,
     "metadata": {},
     "output_type": "execute_result"
    }
   ],
   "source": [
    "# Find all articles\n",
    "summaries = soup.find_all(\"tr\", class_=\"athing\")\n",
    "summaries[0]"
   ]
  },
  {
   "cell_type": "code",
   "execution_count": 9,
   "metadata": {},
   "outputs": [
    {
     "data": {
      "text/plain": [
       "'GitHub Codespaces'"
      ]
     },
     "execution_count": 9,
     "metadata": {},
     "output_type": "execute_result"
    }
   ],
   "source": [
    "# Extract title\n",
    "summaries[0].find(\"a\", class_=\"storylink\").get_text().strip()"
   ]
  },
  {
   "cell_type": "code",
   "execution_count": 10,
   "metadata": {},
   "outputs": [
    {
     "name": "stdout",
     "output_type": "stream",
     "text": [
      "30 Article summaries found. Sample:\n",
      "GitHub Codespaces\n"
     ]
    }
   ],
   "source": [
    "# Find all articles, extract titles\n",
    "articles = []\n",
    "summaries = soup.find_all(\"tr\", class_=\"athing\")\n",
    "for summary in summaries:\n",
    "    title = summary.find(\"a\", class_=\"storylink\").get_text().strip()\n",
    "    articles.append((title))\n",
    "\n",
    "print(len(articles), \"Article summaries found. Sample:\")\n",
    "print(articles[0])"
   ]
  },
  {
   "cell_type": "markdown",
   "metadata": {
    "collapsed": true
   },
   "source": [
    "## Normalization"
   ]
  },
  {
   "cell_type": "markdown",
   "metadata": {},
   "source": [
    "### Case Normalization"
   ]
  },
  {
   "cell_type": "code",
   "execution_count": 11,
   "metadata": {},
   "outputs": [
    {
     "name": "stdout",
     "output_type": "stream",
     "text": [
      "The first time you see The Second Renaissance it may look boring. Look at it at least twice and definitely watch part 2. It will change your view of the matrix. Are the human people the ones who started the war ? Is AI a bad thing ?\n"
     ]
    }
   ],
   "source": [
    "# Sample text\n",
    "text = \"The first time you see The Second Renaissance it may look boring. Look at it at least twice and definitely watch part 2. It will change your view of the matrix. Are the human people the ones who started the war ? Is AI a bad thing ?\"\n",
    "print(text)"
   ]
  },
  {
   "cell_type": "code",
   "execution_count": 12,
   "metadata": {},
   "outputs": [
    {
     "name": "stdout",
     "output_type": "stream",
     "text": [
      "the first time you see the second renaissance it may look boring. look at it at least twice and definitely watch part 2. it will change your view of the matrix. are the human people the ones who started the war ? is ai a bad thing ?\n"
     ]
    }
   ],
   "source": [
    "# Convert to lowercase\n",
    "text = text.lower() \n",
    "print(text)"
   ]
  },
  {
   "cell_type": "markdown",
   "metadata": {},
   "source": [
    "### Punctuation Removal"
   ]
  },
  {
   "cell_type": "code",
   "execution_count": 13,
   "metadata": {},
   "outputs": [
    {
     "name": "stdout",
     "output_type": "stream",
     "text": [
      "the first time you see the second renaissance it may look boring  look at it at least twice and definitely watch part 2  it will change your view of the matrix  are the human people the ones who started the war   is ai a bad thing  \n"
     ]
    }
   ],
   "source": [
    "import re\n",
    "\n",
    "# Remove punctuation characters\n",
    "text = re.sub(r\"[^a-zA-Z0-9]\", \" \", text) \n",
    "print(text)"
   ]
  },
  {
   "cell_type": "markdown",
   "metadata": {},
   "source": [
    "## Tokenization"
   ]
  },
  {
   "cell_type": "code",
   "execution_count": 14,
   "metadata": {},
   "outputs": [
    {
     "name": "stdout",
     "output_type": "stream",
     "text": [
      "['the', 'first', 'time', 'you', 'see', 'the', 'second', 'renaissance', 'it', 'may', 'look', 'boring', 'look', 'at', 'it', 'at', 'least', 'twice', 'and', 'definitely', 'watch', 'part', '2', 'it', 'will', 'change', 'your', 'view', 'of', 'the', 'matrix', 'are', 'the', 'human', 'people', 'the', 'ones', 'who', 'started', 'the', 'war', 'is', 'ai', 'a', 'bad', 'thing']\n"
     ]
    }
   ],
   "source": [
    "# Split text into tokens (words)\n",
    "words = text.split()\n",
    "print(words)"
   ]
  },
  {
   "cell_type": "markdown",
   "metadata": {},
   "source": [
    "### NLTK: Natural Language ToolKit"
   ]
  },
  {
   "cell_type": "code",
   "execution_count": 15,
   "metadata": {},
   "outputs": [],
   "source": [
    "import os\n",
    "import nltk\n",
    "nltk.data.path.append(os.path.join(os.getcwd(), \"nltk_data\"))"
   ]
  },
  {
   "cell_type": "code",
   "execution_count": 16,
   "metadata": {},
   "outputs": [
    {
     "name": "stdout",
     "output_type": "stream",
     "text": [
      "Dr. Smith graduated from the University of Washington. He later started an analytics firm called Lux, which catered to enterprise customers.\n"
     ]
    }
   ],
   "source": [
    "# Another sample text\n",
    "text = \"Dr. Smith graduated from the University of Washington. He later started an analytics firm called Lux, which catered to enterprise customers.\"\n",
    "print(text)"
   ]
  },
  {
   "cell_type": "code",
   "execution_count": 17,
   "metadata": {},
   "outputs": [
    {
     "name": "stdout",
     "output_type": "stream",
     "text": [
      "['Dr.', 'Smith', 'graduated', 'from', 'the', 'University', 'of', 'Washington', '.', 'He', 'later', 'started', 'an', 'analytics', 'firm', 'called', 'Lux', ',', 'which', 'catered', 'to', 'enterprise', 'customers', '.']\n"
     ]
    }
   ],
   "source": [
    "from nltk.tokenize import word_tokenize\n",
    "\n",
    "# Split text into words using NLTK\n",
    "words = word_tokenize(text)\n",
    "print(words)"
   ]
  },
  {
   "cell_type": "code",
   "execution_count": 18,
   "metadata": {},
   "outputs": [
    {
     "name": "stdout",
     "output_type": "stream",
     "text": [
      "['Dr. Smith graduated from the University of Washington.', 'He later started an analytics firm called Lux, which catered to enterprise customers.']\n"
     ]
    }
   ],
   "source": [
    "from nltk.tokenize import sent_tokenize\n",
    "\n",
    "# Split text into sentences\n",
    "sentences = sent_tokenize(text)\n",
    "print(sentences)"
   ]
  },
  {
   "cell_type": "code",
   "execution_count": 19,
   "metadata": {},
   "outputs": [
    {
     "name": "stdout",
     "output_type": "stream",
     "text": [
      "['i', 'me', 'my', 'myself', 'we', 'our', 'ours', 'ourselves', 'you', \"you're\", \"you've\", \"you'll\", \"you'd\", 'your', 'yours', 'yourself', 'yourselves', 'he', 'him', 'his', 'himself', 'she', \"she's\", 'her', 'hers', 'herself', 'it', \"it's\", 'its', 'itself', 'they', 'them', 'their', 'theirs', 'themselves', 'what', 'which', 'who', 'whom', 'this', 'that', \"that'll\", 'these', 'those', 'am', 'is', 'are', 'was', 'were', 'be', 'been', 'being', 'have', 'has', 'had', 'having', 'do', 'does', 'did', 'doing', 'a', 'an', 'the', 'and', 'but', 'if', 'or', 'because', 'as', 'until', 'while', 'of', 'at', 'by', 'for', 'with', 'about', 'against', 'between', 'into', 'through', 'during', 'before', 'after', 'above', 'below', 'to', 'from', 'up', 'down', 'in', 'out', 'on', 'off', 'over', 'under', 'again', 'further', 'then', 'once', 'here', 'there', 'when', 'where', 'why', 'how', 'all', 'any', 'both', 'each', 'few', 'more', 'most', 'other', 'some', 'such', 'no', 'nor', 'not', 'only', 'own', 'same', 'so', 'than', 'too', 'very', 's', 't', 'can', 'will', 'just', 'don', \"don't\", 'should', \"should've\", 'now', 'd', 'll', 'm', 'o', 're', 've', 'y', 'ain', 'aren', \"aren't\", 'couldn', \"couldn't\", 'didn', \"didn't\", 'doesn', \"doesn't\", 'hadn', \"hadn't\", 'hasn', \"hasn't\", 'haven', \"haven't\", 'isn', \"isn't\", 'ma', 'mightn', \"mightn't\", 'mustn', \"mustn't\", 'needn', \"needn't\", 'shan', \"shan't\", 'shouldn', \"shouldn't\", 'wasn', \"wasn't\", 'weren', \"weren't\", 'won', \"won't\", 'wouldn', \"wouldn't\"]\n"
     ]
    }
   ],
   "source": [
    "# List stop words\n",
    "from nltk.corpus import stopwords\n",
    "print(stopwords.words(\"english\"))"
   ]
  },
  {
   "cell_type": "code",
   "execution_count": 20,
   "metadata": {},
   "outputs": [
    {
     "name": "stdout",
     "output_type": "stream",
     "text": [
      "['the', 'first', 'time', 'you', 'see', 'the', 'second', 'renaissance', 'it', 'may', 'look', 'boring', 'look', 'at', 'it', 'at', 'least', 'twice', 'and', 'definitely', 'watch', 'part', '2', 'it', 'will', 'change', 'your', 'view', 'of', 'the', 'matrix', 'are', 'the', 'human', 'people', 'the', 'ones', 'who', 'started', 'the', 'war', 'is', 'ai', 'a', 'bad', 'thing']\n"
     ]
    }
   ],
   "source": [
    "# Reset text\n",
    "text = \"The first time you see The Second Renaissance it may look boring. Look at it at least twice and definitely watch part 2. It will change your view of the matrix. Are the human people the ones who started the war ? Is AI a bad thing ?\"\n",
    "\n",
    "# Normalize it\n",
    "text = re.sub(r\"[^a-zA-Z0-9]\", \" \", text.lower())\n",
    "\n",
    "# Tokenize it\n",
    "words = text.split()\n",
    "print(words)"
   ]
  },
  {
   "cell_type": "code",
   "execution_count": 21,
   "metadata": {},
   "outputs": [
    {
     "name": "stdout",
     "output_type": "stream",
     "text": [
      "['first', 'time', 'see', 'second', 'renaissance', 'may', 'look', 'boring', 'look', 'least', 'twice', 'definitely', 'watch', 'part', '2', 'change', 'view', 'matrix', 'human', 'people', 'ones', 'started', 'war', 'ai', 'bad', 'thing']\n"
     ]
    }
   ],
   "source": [
    "# Remove stop words\n",
    "words = [w for w in words if w not in stopwords.words(\"english\")]\n",
    "print(words)"
   ]
  },
  {
   "cell_type": "markdown",
   "metadata": {},
   "source": [
    "### Sentence Parsing"
   ]
  },
  {
   "cell_type": "code",
   "execution_count": 22,
   "metadata": {},
   "outputs": [
    {
     "name": "stdout",
     "output_type": "stream",
     "text": [
      "(S\n",
      "  (NP I)\n",
      "  (VP\n",
      "    (VP (V shot) (NP (Det an) (N elephant)))\n",
      "    (PP (P in) (NP (Det my) (N pajamas)))))\n",
      "(S\n",
      "  (NP I)\n",
      "  (VP\n",
      "    (V shot)\n",
      "    (NP (Det an) (N elephant) (PP (P in) (NP (Det my) (N pajamas))))))\n"
     ]
    }
   ],
   "source": [
    "import nltk\n",
    "\n",
    "# Define a custom grammar\n",
    "my_grammar = nltk.CFG.fromstring(\"\"\"\n",
    "S -> NP VP\n",
    "PP -> P NP\n",
    "NP -> Det N | Det N PP | 'I'\n",
    "VP -> V NP | VP PP\n",
    "Det -> 'an' | 'my'\n",
    "N -> 'elephant' | 'pajamas'\n",
    "V -> 'shot'\n",
    "P -> 'in'\n",
    "\"\"\")\n",
    "parser = nltk.ChartParser(my_grammar)\n",
    "\n",
    "# Parse a sentence\n",
    "sentence = word_tokenize(\"I shot an elephant in my pajamas\")\n",
    "for tree in parser.parse(sentence):\n",
    "    print(tree)"
   ]
  },
  {
   "cell_type": "markdown",
   "metadata": {},
   "source": [
    "## Stemming & Lemmatization\n",
    "\n",
    "### Stemming"
   ]
  },
  {
   "cell_type": "code",
   "execution_count": 29,
   "metadata": {},
   "outputs": [
    {
     "name": "stdout",
     "output_type": "stream",
     "text": [
      "['first', 'time', 'see', 'second', 'renaiss', 'may', 'look', 'bore', 'look', 'least', 'twice', 'definit', 'watch', 'part', '2', 'chang', 'view', 'matrix', 'human', 'peopl', 'one', 'start', 'war', 'ai', 'bad', 'thing']\n"
     ]
    }
   ],
   "source": [
    "from nltk.stem.porter import PorterStemmer\n",
    "\n",
    "# Reduce words to their stems\n",
    "stemmed = [PorterStemmer().stem(w) for w in words]\n",
    "print(stemmed)"
   ]
  },
  {
   "cell_type": "markdown",
   "metadata": {},
   "source": [
    "### Lemmatization"
   ]
  },
  {
   "cell_type": "code",
   "execution_count": 30,
   "metadata": {},
   "outputs": [
    {
     "name": "stdout",
     "output_type": "stream",
     "text": [
      "['first', 'time', 'see', 'second', 'renaissance', 'may', 'look', 'boring', 'look', 'least', 'twice', 'definitely', 'watch', 'part', '2', 'change', 'view', 'matrix', 'human', 'people', 'one', 'started', 'war', 'ai', 'bad', 'thing']\n"
     ]
    }
   ],
   "source": [
    "from nltk.stem.wordnet import WordNetLemmatizer\n",
    "\n",
    "# Reduce words to their root form\n",
    "lemmed = [WordNetLemmatizer().lemmatize(w) for w in words]\n",
    "print(lemmed)"
   ]
  },
  {
   "cell_type": "code",
   "execution_count": 31,
   "metadata": {},
   "outputs": [
    {
     "name": "stdout",
     "output_type": "stream",
     "text": [
      "['first', 'time', 'see', 'second', 'renaissance', 'may', 'look', 'bore', 'look', 'least', 'twice', 'definitely', 'watch', 'part', '2', 'change', 'view', 'matrix', 'human', 'people', 'one', 'start', 'war', 'ai', 'bad', 'thing']\n"
     ]
    }
   ],
   "source": [
    "# Lemmatize verbs by specifying pos\n",
    "lemmed = [WordNetLemmatizer().lemmatize(w, pos='v') for w in lemmed]\n",
    "print(lemmed)"
   ]
  },
  {
   "cell_type": "code",
   "execution_count": null,
   "metadata": {},
   "outputs": [],
   "source": []
  }
 ],
 "metadata": {
  "kernelspec": {
   "display_name": "Python 3",
   "language": "python",
   "name": "python3"
  },
  "language_info": {
   "codemirror_mode": {
    "name": "ipython",
    "version": 3
   },
   "file_extension": ".py",
   "mimetype": "text/x-python",
   "name": "python",
   "nbconvert_exporter": "python",
   "pygments_lexer": "ipython3",
   "version": "3.6.3"
  }
 },
 "nbformat": 4,
 "nbformat_minor": 2
}
